{
  "cells": [
    {
      "cell_type": "markdown",
      "metadata": {
        "id": "view-in-github",
        "colab_type": "text"
      },
      "source": [
        "<a href=\"https://colab.research.google.com/github/Nithiyasankar/NumPy_Tutorial_in_Python/blob/main/Numpy_Tutorial_in_Python.ipynb\" target=\"_parent\"><img src=\"https://colab.research.google.com/assets/colab-badge.svg\" alt=\"Open In Colab\"/></a>"
      ]
    },
    {
      "cell_type": "code",
      "execution_count": null,
      "metadata": {
        "id": "PLVchkB3UJli"
      },
      "outputs": [],
      "source": [
        "import numpy as np"
      ]
    },
    {
      "cell_type": "code",
      "execution_count": null,
      "metadata": {
        "colab": {
          "base_uri": "https://localhost:8080/"
        },
        "id": "2itP53zoXfL9",
        "outputId": "83a75d5e-6ab8-4181-e00d-1d4a102ac54c"
      },
      "outputs": [
        {
          "name": "stdout",
          "output_type": "stream",
          "text": [
            "[1, 2, 3, 4, 5]\n"
          ]
        },
        {
          "data": {
            "text/plain": [
              "list"
            ]
          },
          "execution_count": 2,
          "metadata": {},
          "output_type": "execute_result"
        }
      ],
      "source": [
        "list1=[1,2,3,4,5]\n",
        "print(list1)\n",
        "type(list1)"
      ]
    },
    {
      "cell_type": "code",
      "execution_count": null,
      "metadata": {
        "colab": {
          "base_uri": "https://localhost:8080/"
        },
        "id": "2CRyi5SXYLTR",
        "outputId": "ce9109e0-423e-47c5-f8c3-12a08c148254"
      },
      "outputs": [
        {
          "name": "stdout",
          "output_type": "stream",
          "text": [
            "[]\n"
          ]
        },
        {
          "data": {
            "text/plain": [
              "numpy.ndarray"
            ]
          },
          "execution_count": 3,
          "metadata": {},
          "output_type": "execute_result"
        }
      ],
      "source": [
        "np_array = np.array([])\n",
        "print(np_array)\n",
        "type(np_array)"
      ]
    },
    {
      "cell_type": "code",
      "execution_count": null,
      "metadata": {
        "colab": {
          "base_uri": "https://localhost:8080/"
        },
        "id": "5TdS33XwYups",
        "outputId": "ffe3b661-19ec-44d3-c7ff-4ad48b8b0379"
      },
      "outputs": [
        {
          "name": "stdout",
          "output_type": "stream",
          "text": [
            "[1 2 3 4]\n"
          ]
        }
      ],
      "source": [
        "#creating a 1 dim array\n",
        "a= np.array([1,2,3,4])\n",
        "print(a)"
      ]
    },
    {
      "cell_type": "code",
      "execution_count": null,
      "metadata": {
        "colab": {
          "background_save": true
        },
        "id": "9n0ZPRFpZ5PZ",
        "outputId": "d8dd735f-76a7-4b1a-d0b6-1aa5c07dc828"
      },
      "outputs": [
        {
          "data": {
            "text/plain": [
              "(4,)"
            ]
          },
          "execution_count": 6,
          "metadata": {},
          "output_type": "execute_result"
        }
      ],
      "source": [
        "a.shape"
      ]
    },
    {
      "cell_type": "code",
      "execution_count": null,
      "metadata": {
        "colab": {
          "base_uri": "https://localhost:8080/"
        },
        "id": "cKeXdja0wWmG",
        "outputId": "12ae735f-604c-4682-8774-fffa0875b525"
      },
      "outputs": [
        {
          "name": "stdout",
          "output_type": "stream",
          "text": [
            "[[1 2 3 4]\n",
            " [5 6 7 8]]\n"
          ]
        }
      ],
      "source": [
        "b=np.array([(1,2,3,4),(5,6,7,8)])\n",
        "print(b)"
      ]
    },
    {
      "cell_type": "code",
      "execution_count": null,
      "metadata": {
        "colab": {
          "base_uri": "https://localhost:8080/"
        },
        "id": "FSYnnz9_wpCE",
        "outputId": "88e546b8-3257-4bd1-a21b-836741f1033a"
      },
      "outputs": [
        {
          "data": {
            "text/plain": [
              "(2, 4)"
            ]
          },
          "execution_count": 24,
          "metadata": {},
          "output_type": "execute_result"
        }
      ],
      "source": [
        "b.shape"
      ]
    },
    {
      "cell_type": "code",
      "execution_count": null,
      "metadata": {
        "colab": {
          "base_uri": "https://localhost:8080/"
        },
        "id": "cUsVDLYzwuj0",
        "outputId": "fa3024f7-979a-43ed-c319-6bf1deda7020"
      },
      "outputs": [
        {
          "name": "stdout",
          "output_type": "stream",
          "text": [
            "[[1. 2. 3. 4.]\n",
            " [5. 6. 7. 8.]]\n"
          ]
        }
      ],
      "source": [
        "c=np.array([(1,2,3,4),(5,6,7,8)],dtype=float)\n",
        "print(c)"
      ]
    },
    {
      "cell_type": "code",
      "execution_count": null,
      "metadata": {
        "colab": {
          "base_uri": "https://localhost:8080/"
        },
        "id": "WgF0wb9Qw2MO",
        "outputId": "f486346a-e653-4b14-ea8a-08d6f124ede3"
      },
      "outputs": [
        {
          "name": "stdout",
          "output_type": "stream",
          "text": [
            "[['1' '2' '3' '4']\n",
            " ['5' '6' '7' '8']]\n"
          ]
        }
      ],
      "source": [
        "c=np.array([(1,2,3,4),(5,6,7,8)],dtype=str)\n",
        "print(c)"
      ]
    },
    {
      "cell_type": "code",
      "execution_count": null,
      "metadata": {
        "colab": {
          "base_uri": "https://localhost:8080/"
        },
        "id": "G4ELuRlrw7rW",
        "outputId": "43b4bc67-710a-4815-a9e1-db837b3a0edc"
      },
      "outputs": [
        {
          "name": "stdout",
          "output_type": "stream",
          "text": [
            "[[0. 0.]\n",
            " [0. 0.]\n",
            " [0. 0.]\n",
            " [0. 0.]]\n"
          ]
        }
      ],
      "source": [
        "x= np.zeros((4,2))\n",
        "print(x)"
      ]
    },
    {
      "cell_type": "code",
      "execution_count": null,
      "metadata": {
        "colab": {
          "base_uri": "https://localhost:8080/"
        },
        "id": "pLXizfchxBuz",
        "outputId": "c5180460-c7da-4812-8c7e-55cbf31fa107"
      },
      "outputs": [
        {
          "name": "stdout",
          "output_type": "stream",
          "text": [
            "[[1. 1. 1. 1. 1.]\n",
            " [1. 1. 1. 1. 1.]\n",
            " [1. 1. 1. 1. 1.]\n",
            " [1. 1. 1. 1. 1.]]\n"
          ]
        }
      ],
      "source": [
        "y=np.ones((4,5))\n",
        "print(y)"
      ]
    },
    {
      "cell_type": "code",
      "execution_count": null,
      "metadata": {
        "colab": {
          "base_uri": "https://localhost:8080/"
        },
        "id": "vlWPnxRUxGzh",
        "outputId": "95206358-6ae2-44c9-fefb-542f74d7cf53"
      },
      "outputs": [
        {
          "name": "stdout",
          "output_type": "stream",
          "text": [
            "[[4 4 4 4]\n",
            " [4 4 4 4]\n",
            " [4 4 4 4]\n",
            " [4 4 4 4]]\n"
          ]
        }
      ],
      "source": [
        "z= np.full((4,4),4)\n",
        "print(z)"
      ]
    },
    {
      "cell_type": "code",
      "execution_count": null,
      "metadata": {
        "colab": {
          "base_uri": "https://localhost:8080/"
        },
        "id": "TNrWXxB9xLyW",
        "outputId": "742fbe06-ffb2-41bb-b715-78ed689a3a41"
      },
      "outputs": [
        {
          "name": "stdout",
          "output_type": "stream",
          "text": [
            "[[1. 0. 0. 0. 0.]\n",
            " [0. 1. 0. 0. 0.]\n",
            " [0. 0. 1. 0. 0.]\n",
            " [0. 0. 0. 1. 0.]\n",
            " [0. 0. 0. 0. 1.]]\n"
          ]
        }
      ],
      "source": [
        "a=np.eye(5)\n",
        "print(a)"
      ]
    },
    {
      "cell_type": "code",
      "execution_count": null,
      "metadata": {
        "colab": {
          "base_uri": "https://localhost:8080/"
        },
        "id": "ZZa2FcmbxQlv",
        "outputId": "0d55b7a0-39ea-4475-f355-fe7a71627665"
      },
      "outputs": [
        {
          "name": "stdout",
          "output_type": "stream",
          "text": [
            "[[30 72 37 26 13]\n",
            " [90 22 16 27 69]\n",
            " [73 45 87 24 75]]\n"
          ]
        }
      ],
      "source": [
        "c=np.random.randint(10,100,(3,5))\n",
        "print(c)"
      ]
    },
    {
      "cell_type": "code",
      "execution_count": null,
      "metadata": {
        "colab": {
          "base_uri": "https://localhost:8080/"
        },
        "id": "qTTJ9yMsxSo9",
        "outputId": "4f114dc7-6280-48d4-97f8-975e20e0f726"
      },
      "outputs": [
        {
          "name": "stdout",
          "output_type": "stream",
          "text": [
            "[10.         16.66666667 23.33333333 30.        ]\n"
          ]
        }
      ],
      "source": [
        "d=np.linspace(10,30,4)\n",
        "print(d)"
      ]
    },
    {
      "cell_type": "code",
      "execution_count": null,
      "metadata": {
        "colab": {
          "base_uri": "https://localhost:8080/"
        },
        "id": "4wkrayQ9xXVv",
        "outputId": "46eb8bce-fd26-4952-aee0-8fa74f523eec"
      },
      "outputs": [
        {
          "name": "stdout",
          "output_type": "stream",
          "text": [
            "[10. 14. 18. 22. 26. 30.]\n"
          ]
        }
      ],
      "source": [
        "d=np.linspace(10,30,6)\n",
        "print(d)"
      ]
    },
    {
      "cell_type": "code",
      "execution_count": null,
      "metadata": {
        "colab": {
          "base_uri": "https://localhost:8080/"
        },
        "id": "SjyisSkGxef7",
        "outputId": "aa952b36-46e3-44a6-f66c-7bd10a881d77"
      },
      "outputs": [
        {
          "name": "stdout",
          "output_type": "stream",
          "text": [
            "[10 15 20]\n"
          ]
        }
      ],
      "source": [
        "e=np.arange(10,25,5)\n",
        "print(e)"
      ]
    },
    {
      "cell_type": "code",
      "execution_count": null,
      "metadata": {
        "colab": {
          "base_uri": "https://localhost:8080/"
        },
        "id": "R_CodQJmxjx-",
        "outputId": "1e848971-667a-41d3-b28b-9a6216159876"
      },
      "outputs": [
        {
          "name": "stdout",
          "output_type": "stream",
          "text": [
            "[10 20 30 40]\n"
          ]
        },
        {
          "data": {
            "text/plain": [
              "numpy.ndarray"
            ]
          },
          "execution_count": 35,
          "metadata": {},
          "output_type": "execute_result"
        }
      ],
      "source": [
        "list2=[10,20,30,40]\n",
        "np_array=np.array(list2)\n",
        "print(np_array)\n",
        "type(np_array)"
      ]
    },
    {
      "cell_type": "code",
      "execution_count": null,
      "metadata": {
        "colab": {
          "base_uri": "https://localhost:8080/"
        },
        "id": "DpM02QkExpDq",
        "outputId": "6340cca3-7f31-452e-e0f2-03b48816fe59"
      },
      "outputs": [
        {
          "name": "stdout",
          "output_type": "stream",
          "text": [
            "[[34 61 81 73 45]\n",
            " [61 73 47 26 30]\n",
            " [87 78 39 55 24]\n",
            " [32 59 73 56 66]\n",
            " [72 83 70 32 48]]\n"
          ]
        }
      ],
      "source": [
        "c=np.random.randint(10,90,(5,5))\n",
        "print(c)"
      ]
    },
    {
      "cell_type": "code",
      "execution_count": null,
      "metadata": {
        "colab": {
          "base_uri": "https://localhost:8080/"
        },
        "id": "Mah3-HsQxuPa",
        "outputId": "dad85f83-1db2-418c-83b5-bd7b77c24d6e"
      },
      "outputs": [
        {
          "name": "stdout",
          "output_type": "stream",
          "text": [
            "(5, 5)\n"
          ]
        }
      ],
      "source": [
        "print(c.shape)"
      ]
    },
    {
      "cell_type": "code",
      "execution_count": null,
      "metadata": {
        "colab": {
          "base_uri": "https://localhost:8080/"
        },
        "id": "wP7f-3lbxz4L",
        "outputId": "a1d2ee78-b18c-4aa0-ca2e-7f8e58dc4349"
      },
      "outputs": [
        {
          "name": "stdout",
          "output_type": "stream",
          "text": [
            "2\n"
          ]
        }
      ],
      "source": [
        "print(c.ndim)"
      ]
    },
    {
      "cell_type": "code",
      "execution_count": null,
      "metadata": {
        "colab": {
          "base_uri": "https://localhost:8080/"
        },
        "id": "07desqNkx3_R",
        "outputId": "2791590b-2afd-4b48-bbd3-6a1c9c589e9a"
      },
      "outputs": [
        {
          "name": "stdout",
          "output_type": "stream",
          "text": [
            "int64\n"
          ]
        }
      ],
      "source": [
        "print(c.dtype)"
      ]
    },
    {
      "cell_type": "code",
      "execution_count": null,
      "metadata": {
        "colab": {
          "base_uri": "https://localhost:8080/"
        },
        "id": "9AJosjs6x8Sr",
        "outputId": "4304ca6e-1d73-4c65-b979-585348bab14f"
      },
      "outputs": [
        {
          "name": "stdout",
          "output_type": "stream",
          "text": [
            "[1, 2, 3, 4, 5, 6, 7, 8, 9]\n"
          ]
        }
      ],
      "source": [
        "list1=[1,2,3,4,5]\n",
        "list2=[6,7,8,9]\n",
        "print(list1+list2)"
      ]
    },
    {
      "cell_type": "code",
      "execution_count": null,
      "metadata": {
        "colab": {
          "base_uri": "https://localhost:8080/"
        },
        "id": "tEhN7bOdyTzb",
        "outputId": "1d05a8b6-cfc2-44f2-ae13-1f73f2ca1448"
      },
      "outputs": [
        {
          "name": "stdout",
          "output_type": "stream",
          "text": [
            "[[0 6 8]\n",
            " [0 3 1]\n",
            " [2 4 1]]\n",
            "[[12 18 16]\n",
            " [16 10 12]\n",
            " [18 17 11]]\n"
          ]
        }
      ],
      "source": [
        "a = np.random.randint(0,10,(3,3))\n",
        "b = np.random.randint(10,20,(3,3))\n",
        "print(a)\n",
        "print(b)"
      ]
    },
    {
      "cell_type": "code",
      "execution_count": null,
      "metadata": {
        "id": "TzXF1HASzjyy"
      },
      "outputs": [],
      "source": [
        "a = np.random.randint(0,10,(3,3))\n",
        "b = np.random.randint(10,20,(3,3))"
      ]
    },
    {
      "cell_type": "code",
      "execution_count": null,
      "metadata": {
        "colab": {
          "base_uri": "https://localhost:8080/"
        },
        "id": "n5dSwyTzzqiq",
        "outputId": "52401541-9b16-482b-e959-ac51aa51708e"
      },
      "outputs": [
        {
          "name": "stdout",
          "output_type": "stream",
          "text": [
            "[[5 1 3]\n",
            " [2 0 3]\n",
            " [6 5 4]]\n",
            "[[19 14 12]\n",
            " [17 12 19]\n",
            " [10 16 19]]\n"
          ]
        }
      ],
      "source": [
        "print(a)\n",
        "print(b)"
      ]
    },
    {
      "cell_type": "code",
      "execution_count": null,
      "metadata": {
        "colab": {
          "base_uri": "https://localhost:8080/"
        },
        "id": "jgZCTfX0z9CW",
        "outputId": "c8d5ef2d-a16c-403d-eccb-431ad8508399"
      },
      "outputs": [
        {
          "name": "stdout",
          "output_type": "stream",
          "text": [
            "[[24 15 15]\n",
            " [19 12 22]\n",
            " [16 21 23]]\n",
            "[[-14 -13  -9]\n",
            " [-15 -12 -16]\n",
            " [ -4 -11 -15]]\n",
            "[[95 14 36]\n",
            " [34  0 57]\n",
            " [60 80 76]]\n",
            "[[0.26315789 0.07142857 0.25      ]\n",
            " [0.11764706 0.         0.15789474]\n",
            " [0.6        0.3125     0.21052632]]\n"
          ]
        }
      ],
      "source": [
        "print(a+b)\n",
        "print(a-b)\n",
        "print(a*b)\n",
        "print(a/b)"
      ]
    },
    {
      "cell_type": "code",
      "execution_count": null,
      "metadata": {
        "colab": {
          "base_uri": "https://localhost:8080/"
        },
        "id": "AYvTf91dz_MZ",
        "outputId": "46421448-9dad-4943-c464-85f9d652ed9d"
      },
      "outputs": [
        {
          "name": "stdout",
          "output_type": "stream",
          "text": [
            "[[24 15 15]\n",
            " [19 12 22]\n",
            " [16 21 23]]\n",
            "[[-14 -13  -9]\n",
            " [-15 -12 -16]\n",
            " [ -4 -11 -15]]\n",
            "[[95 14 36]\n",
            " [34  0 57]\n",
            " [60 80 76]]\n",
            "[[0.26315789 0.07142857 0.25      ]\n",
            " [0.11764706 0.         0.15789474]\n",
            " [0.6        0.3125     0.21052632]]\n"
          ]
        }
      ],
      "source": [
        "print(np.add(a,b))\n",
        "print(np.subtract(a,b))\n",
        "print(np.multiply(a,b))\n",
        "print(np.divide(a,b))"
      ]
    },
    {
      "cell_type": "code",
      "execution_count": null,
      "metadata": {
        "colab": {
          "base_uri": "https://localhost:8080/"
        },
        "id": "edJ3fKPh0Eob",
        "outputId": "c9d7d543-0995-4adb-edda-a1ae0a9ac79b"
      },
      "outputs": [
        {
          "output_type": "stream",
          "name": "stdout",
          "text": [
            "[[3 4 5]\n",
            " [7 7 3]]\n",
            "(2, 3)\n"
          ]
        }
      ],
      "source": [
        "array = np.random.randint(0,10,(2,3))\n",
        "print(array)\n",
        "print(array.shape)"
      ]
    },
    {
      "cell_type": "code",
      "source": [
        "trans2 = array.T\n",
        "print(trans2)"
      ],
      "metadata": {
        "colab": {
          "base_uri": "https://localhost:8080/"
        },
        "id": "fWsXRwXg4Y_E",
        "outputId": "f9444fff-87f2-4606-86ad-a18d48bfd594"
      },
      "execution_count": null,
      "outputs": [
        {
          "output_type": "stream",
          "name": "stdout",
          "text": [
            "[[3 7]\n",
            " [4 7]\n",
            " [5 3]]\n"
          ]
        }
      ]
    },
    {
      "cell_type": "code",
      "source": [
        "import numpy as np\n",
        "array=np.array([1,2,3,4,5,6,7,8,9])\n",
        "print(\"First 5 element\",array[:5])\n",
        "print(\"Last 4 element\",array[-4:])\n",
        "print(\"Elements from index 2 to 6:\",array[2:7])"
      ],
      "metadata": {
        "colab": {
          "base_uri": "https://localhost:8080/"
        },
        "id": "IfZZoQVH4jkJ",
        "outputId": "7921e692-85d7-4ec6-f761-95d116f5d3b0"
      },
      "execution_count": null,
      "outputs": [
        {
          "output_type": "stream",
          "name": "stdout",
          "text": [
            "First 5 element [1 2 3 4 5]\n",
            "Last 4 element [6 7 8 9]\n",
            "Elements from index 2 to 6: [3 4 5 6 7]\n"
          ]
        }
      ]
    },
    {
      "cell_type": "code",
      "source": [
        "array = np.array([1,2,3,4,5,6,7,8,9])\n",
        "reshaped_array = np.reshape(array, (3, 3))\n",
        "print(\"Reshaped array:\\n\", reshaped_array)"
      ],
      "metadata": {
        "colab": {
          "base_uri": "https://localhost:8080/"
        },
        "id": "pmG-22LP4ofR",
        "outputId": "db17f1dc-4709-4043-c8b9-af0e33bc5492"
      },
      "execution_count": null,
      "outputs": [
        {
          "output_type": "stream",
          "name": "stdout",
          "text": [
            "Reshaped array:\n",
            " [[1 2 3]\n",
            " [4 5 6]\n",
            " [7 8 9]]\n"
          ]
        }
      ]
    },
    {
      "cell_type": "code",
      "source": [
        "array = np.array([1,2,3,4,5,6,7,8,9,10,11,12,13,14,15,16,17,18,19,20,21,22,23,24,25])\n",
        "reshaped_array = np.reshape(array, (5, 5))\n",
        "print(\"Reshaped array:\\n\", reshaped_array)"
      ],
      "metadata": {
        "colab": {
          "base_uri": "https://localhost:8080/"
        },
        "id": "twSEmjG04r6s",
        "outputId": "c625f3d9-f99d-4cdf-ea06-21e8c1b8720b"
      },
      "execution_count": null,
      "outputs": [
        {
          "output_type": "stream",
          "name": "stdout",
          "text": [
            "Reshaped array:\n",
            " [[ 1  2  3  4  5]\n",
            " [ 6  7  8  9 10]\n",
            " [11 12 13 14 15]\n",
            " [16 17 18 19 20]\n",
            " [21 22 23 24 25]]\n"
          ]
        }
      ]
    }
  ],
  "metadata": {
    "colab": {
      "provenance": [],
      "authorship_tag": "ABX9TyMWHAOKiaPg4B+zLwYprNdZ",
      "include_colab_link": true
    },
    "kernelspec": {
      "display_name": "Python 3",
      "name": "python3"
    },
    "language_info": {
      "name": "python"
    }
  },
  "nbformat": 4,
  "nbformat_minor": 0
}